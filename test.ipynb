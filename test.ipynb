{
 "cells": [
  {
   "cell_type": "code",
   "execution_count": 1,
   "metadata": {},
   "outputs": [
    {
     "data": {
      "text/plain": [
       "True"
      ]
     },
     "execution_count": 1,
     "metadata": {},
     "output_type": "execute_result"
    }
   ],
   "source": [
    "import os\n",
    "from dotenv import load_dotenv\n",
    "load_dotenv()"
   ]
  },
  {
   "cell_type": "code",
   "execution_count": 2,
   "metadata": {},
   "outputs": [],
   "source": [
    "os.environ['OPENAI_API_KEY']=os.getenv(\"OPENAI_API_KEY\")"
   ]
  },
  {
   "cell_type": "code",
   "execution_count": 3,
   "metadata": {},
   "outputs": [],
   "source": [
    "from llama_index import VectorStoreIndex, SimpleDirectoryReader\n",
    "documents=SimpleDirectoryReader(\"data\").load_data()"
   ]
  },
  {
   "cell_type": "code",
   "execution_count": 4,
   "metadata": {},
   "outputs": [
    {
     "data": {
      "text/plain": [
       "[Document(id_='a5f906cc-08bb-4e94-8ff0-b1d52a9c11ed', embedding=None, metadata={'page_label': '1', 'file_name': 'GenerativeAI.pdf', 'file_path': 'data\\\\GenerativeAI.pdf', 'file_type': 'application/pdf', 'file_size': 30139, 'creation_date': '2024-02-03', 'last_modified_date': '2024-02-04', 'last_accessed_date': '2024-02-04'}, excluded_embed_metadata_keys=['file_name', 'file_type', 'file_size', 'creation_date', 'last_modified_date', 'last_accessed_date'], excluded_llm_metadata_keys=['file_name', 'file_type', 'file_size', 'creation_date', 'last_modified_date', 'last_accessed_date'], relationships={}, text=\" \\n **Title: Understanding Generative AI**  \\n*Page 1: Introduction*  \\nGenerative Artificial Intelligence (AI) is a cutting -edge field that focuses on creating systems capable of \\ngenerating new content, whether it be text, images, or other forms of data. Unlike traditional AI, which \\nprimarily involves solving specific tasks, generative AI aims to simulate human creativity and produce \\nnovel outputs. This two-page document explores the fundamental concepts behind generative AI.  \\n*Page 2: Key Concepts*  \\n**1. Generative Models:**  \\nGenerative AI relies on generative models, mathematical frameworks designed to learn patterns and \\nstructures within data. Notable examples include Variational Autoencoders (VAEs) and Generative \\nAdversarial Networks (GANs). These models enable machines to g enerate content by capturing the \\nunderlying features of the training data.  \\n**2. Training Process:**  \\nDuring training, generative models learn from vast datasets, discerning patterns and relationships. GANs, \\nfor instance, consist of a generator and a discriminator network engaged in a competitive learning \\nprocess. The generator aims to create realistic dat a, while the discriminator's role is to distinguish \\nbetween real and generated content. This adversarial training enhances the model's ability to generate \\nauthentic outputs.  \\n**3. Natural Language Processing (NLP):**  \\nIn the context of text generation, NLP -based generative models, like OpenAI's GPT (Generative Pre -\\ntrained Transformer) series, have gained prominence. These models leverage deep learning techniques \\nto understand context, syntax, and semantics, enabling the m to generate coherent and contextually \\nrelevant text.  \\n*Page 3: Applications*  \\n**1. Creative Content Generation:**  \\nGenerative AI is transforming creative industries by autonomously producing art, music, and literature. \\nArtists and musicians are collaborating with generative models to explore new realms of creativity and \\ninnovation.  \\n**2. Realistic Image Synthesis:**  \\nGANs excel in generating lifelike images, revolutionizing fields such as computer graphics and design. \\nApplications range from creating synthetic training data for machine learning models to generating \\nrealistic faces that don't exist in reality.  \\n**3. Personalized Content Creation:**  \\nGenerative AI is also contributing to personalized content generation, tailoring recommendations, and \\ncreating bespoke experiences. This is evident in recommendation systems, chatbots, and virtual \\nassistants that adapt to individual preferences.  \\n**2. Continued Advancements:**  \\nThe field of generative AI is evolving rapidly, with ongoing research and developments. Continued \\nadvancements will likely lead to even more sophisticated models, pushing the boundaries of what AI can \\ncreate.  \\n \", start_char_idx=None, end_char_idx=None, text_template='{metadata_str}\\n\\n{content}', metadata_template='{key}: {value}', metadata_seperator='\\n'),\n",
       " Document(id_='1b800244-b7c6-44ef-bb5c-d02a0fe84a61', embedding=None, metadata={'page_label': '1', 'file_name': 'Q_Learning.pdf', 'file_path': 'data\\\\Q_Learning.pdf', 'file_type': 'application/pdf', 'file_size': 10277, 'creation_date': '2024-02-03', 'last_modified_date': '2024-02-04', 'last_accessed_date': '2024-02-04'}, excluded_embed_metadata_keys=['file_name', 'file_type', 'file_size', 'creation_date', 'last_modified_date', 'last_accessed_date'], excluded_llm_metadata_keys=['file_name', 'file_type', 'file_size', 'creation_date', 'last_modified_date', 'last_accessed_date'], relationships={}, text=\" \\n **Title: Understanding Q -Learning**  \\n*Page 1: Introduction*  \\nQ-learning is a powerful reinforcement learning algorithm that enables machines to learn optimal strategies in a \\ngiven environment. This two -page document delves into the fundamental concepts of Q -learning, shedding light on \\nits mechanisms and applications.  \\n*Page 2: Key Concepts*  \\n**1. Reinforcement Learning:**  \\nAt its core, Q -learning is a form of reinforcement learning, a type of machine learning where an agent learns by \\ninteracting with an environment. The agent receives feedback in the form of rewards or penalties, guiding it to \\ndiscover optimal actions over t ime.  \\n**2. Q -Value and State -Action Pairs:**  \\nThe key idea in Q -learning is the Q -value, representing the expected cumulative reward of taking a particular action \\nin a specific state. The algorithm maintains a Q -table or Q -function, associating values with state -action pairs, \\nguiding the agent to choo se actions that maximize long -term rewards.  \\n**3. Exploration vs. Exploitation:**  \\nBalancing exploration (trying new actions to discover their effects) and exploitation (choosing known optimal \\nactions) is a crucial aspect of Q -learning. Strategies like epsilon -greedy exploration are employed to ensure the agent \\nexplores the environment w hile gradually focusing on the most rewarding actions.  \\n*Page 3: Training Process*  \\n**1. Bellman Equation:**  \\nQ-learning employs the Bellman equation to iteratively update Q -values based on the difference between the current \\nestimate and the expected future rewards. This process refines the Q -values, converging towards an optimal policy \\nthat maximizes cumulative r ewards.  \\n**2. Learning Rate and Discount Factor:**  \\nParameters like learning rate and discount factor influence the Q -learning process. The learning rate determines the \\nextent to which the Q -values are updated in each iteration, while the discount factor influences the agent's \\nconsideration of future reward s. Finding optimal values for these parameters is crucial for successful Q -learning.  \\n*Page 4: Applications*  \\n**1. Game Playing:**  \\nQ-learning has been widely applied in gaming scenarios, where agents learn optimal strategies to navigate game \\nenvironments, defeat opponents, and achieve specific objectives.  \\n**2. Robotics and Control Systems:**  \\nIn robotics and control systems, Q -learning aids in decision -making processes, allowing robots to adapt and  \\noptimize their actions based on real -time feedback and environmental changes.  \", start_char_idx=None, end_char_idx=None, text_template='{metadata_str}\\n\\n{content}', metadata_template='{key}: {value}', metadata_seperator='\\n')]"
      ]
     },
     "execution_count": 4,
     "metadata": {},
     "output_type": "execute_result"
    }
   ],
   "source": [
    "documents"
   ]
  },
  {
   "cell_type": "code",
   "execution_count": 5,
   "metadata": {},
   "outputs": [
    {
     "name": "stderr",
     "output_type": "stream",
     "text": [
      "c:\\Retrieval_Augumented_Generation_system\\venv\\Lib\\site-packages\\tqdm\\auto.py:21: TqdmWarning: IProgress not found. Please update jupyter and ipywidgets. See https://ipywidgets.readthedocs.io/en/stable/user_install.html\n",
      "  from .autonotebook import tqdm as notebook_tqdm\n",
      "Parsing nodes: 100%|██████████| 2/2 [00:00<00:00, 250.04it/s]\n",
      "Generating embeddings: 100%|██████████| 2/2 [00:00<00:00,  2.34it/s]\n"
     ]
    }
   ],
   "source": [
    "index=VectorStoreIndex.from_documents(documents,show_progress=True)"
   ]
  },
  {
   "cell_type": "code",
   "execution_count": 6,
   "metadata": {},
   "outputs": [
    {
     "data": {
      "text/plain": [
       "<llama_index.indices.vector_store.base.VectorStoreIndex at 0x2e088c6ae50>"
      ]
     },
     "execution_count": 6,
     "metadata": {},
     "output_type": "execute_result"
    }
   ],
   "source": [
    "index"
   ]
  },
  {
   "cell_type": "code",
   "execution_count": 7,
   "metadata": {},
   "outputs": [],
   "source": [
    "query_engine=index.as_query_engine()"
   ]
  },
  {
   "cell_type": "code",
   "execution_count": 8,
   "metadata": {},
   "outputs": [],
   "source": [
    "response=query_engine.query(\"Summarize Generative AI in 10 words\")"
   ]
  },
  {
   "cell_type": "code",
   "execution_count": 9,
   "metadata": {},
   "outputs": [
    {
     "data": {
      "text/plain": [
       "Response(response='Creating systems that generate new content using mathematical frameworks.', source_nodes=[NodeWithScore(node=TextNode(id_='4daae23e-6ab0-44f9-8fb4-972ab74af848', embedding=None, metadata={'page_label': '1', 'file_name': 'GenerativeAI.pdf', 'file_path': 'data\\\\GenerativeAI.pdf', 'file_type': 'application/pdf', 'file_size': 30139, 'creation_date': '2024-02-03', 'last_modified_date': '2024-02-04', 'last_accessed_date': '2024-02-04'}, excluded_embed_metadata_keys=['file_name', 'file_type', 'file_size', 'creation_date', 'last_modified_date', 'last_accessed_date'], excluded_llm_metadata_keys=['file_name', 'file_type', 'file_size', 'creation_date', 'last_modified_date', 'last_accessed_date'], relationships={<NodeRelationship.SOURCE: '1'>: RelatedNodeInfo(node_id='a5f906cc-08bb-4e94-8ff0-b1d52a9c11ed', node_type=<ObjectType.DOCUMENT: '4'>, metadata={'page_label': '1', 'file_name': 'GenerativeAI.pdf', 'file_path': 'data\\\\GenerativeAI.pdf', 'file_type': 'application/pdf', 'file_size': 30139, 'creation_date': '2024-02-03', 'last_modified_date': '2024-02-04', 'last_accessed_date': '2024-02-04'}, hash='66caebadb257995efbe245b8face719bc3f0441d0269c9d418caa30841921622'), <NodeRelationship.NEXT: '3'>: RelatedNodeInfo(node_id='71380dc9-fbfc-4688-ac68-603ee059db38', node_type=<ObjectType.TEXT: '1'>, metadata={}, hash='eb57b75d6182adb1eaebb8abb814041bb3adf68309c9484342c6b81e0282a5b7')}, text=\"**Title: Understanding Generative AI**  \\n*Page 1: Introduction*  \\nGenerative Artificial Intelligence (AI) is a cutting -edge field that focuses on creating systems capable of \\ngenerating new content, whether it be text, images, or other forms of data. Unlike traditional AI, which \\nprimarily involves solving specific tasks, generative AI aims to simulate human creativity and produce \\nnovel outputs. This two-page document explores the fundamental concepts behind generative AI.  \\n*Page 2: Key Concepts*  \\n**1. Generative Models:**  \\nGenerative AI relies on generative models, mathematical frameworks designed to learn patterns and \\nstructures within data. Notable examples include Variational Autoencoders (VAEs) and Generative \\nAdversarial Networks (GANs). These models enable machines to g enerate content by capturing the \\nunderlying features of the training data.  \\n**2. Training Process:**  \\nDuring training, generative models learn from vast datasets, discerning patterns and relationships. GANs, \\nfor instance, consist of a generator and a discriminator network engaged in a competitive learning \\nprocess. The generator aims to create realistic dat a, while the discriminator's role is to distinguish \\nbetween real and generated content. This adversarial training enhances the model's ability to generate \\nauthentic outputs.  \\n**3. Natural Language Processing (NLP):**  \\nIn the context of text generation, NLP -based generative models, like OpenAI's GPT (Generative Pre -\\ntrained Transformer) series, have gained prominence. These models leverage deep learning techniques \\nto understand context, syntax, and semantics, enabling the m to generate coherent and contextually \\nrelevant text.  \\n*Page 3: Applications*  \\n**1. Creative Content Generation:**  \\nGenerative AI is transforming creative industries by autonomously producing art, music, and literature. \\nArtists and musicians are collaborating with generative models to explore new realms of creativity and \\ninnovation.  \\n**2. Realistic Image Synthesis:**  \\nGANs excel in generating lifelike images, revolutionizing fields such as computer graphics and design. \\nApplications range from creating synthetic training data for machine learning models to generating \\nrealistic faces that don't exist in reality.  \\n**3. Personalized Content Creation:**  \\nGenerative AI is also contributing to personalized content generation, tailoring recommendations, and \\ncreating bespoke experiences. This is evident in recommendation systems, chatbots, and virtual \\nassistants that adapt to individual preferences.  \\n**2. Continued Advancements:**  \\nThe field of generative AI is evolving rapidly, with ongoing research and developments. Continued \\nadvancements will likely lead to even more sophisticated models, pushing the boundaries of what AI can \\ncreate.\", start_char_idx=3, end_char_idx=2808, text_template='{metadata_str}\\n\\n{content}', metadata_template='{key}: {value}', metadata_seperator='\\n'), score=0.8496337462090742), NodeWithScore(node=TextNode(id_='71380dc9-fbfc-4688-ac68-603ee059db38', embedding=None, metadata={'page_label': '1', 'file_name': 'Q_Learning.pdf', 'file_path': 'data\\\\Q_Learning.pdf', 'file_type': 'application/pdf', 'file_size': 10277, 'creation_date': '2024-02-03', 'last_modified_date': '2024-02-04', 'last_accessed_date': '2024-02-04'}, excluded_embed_metadata_keys=['file_name', 'file_type', 'file_size', 'creation_date', 'last_modified_date', 'last_accessed_date'], excluded_llm_metadata_keys=['file_name', 'file_type', 'file_size', 'creation_date', 'last_modified_date', 'last_accessed_date'], relationships={<NodeRelationship.SOURCE: '1'>: RelatedNodeInfo(node_id='1b800244-b7c6-44ef-bb5c-d02a0fe84a61', node_type=<ObjectType.DOCUMENT: '4'>, metadata={'page_label': '1', 'file_name': 'Q_Learning.pdf', 'file_path': 'data\\\\Q_Learning.pdf', 'file_type': 'application/pdf', 'file_size': 10277, 'creation_date': '2024-02-03', 'last_modified_date': '2024-02-04', 'last_accessed_date': '2024-02-04'}, hash='fddb9095f289be738702130329e32d0fb30123282b386a9949fa866b5d2f93f6'), <NodeRelationship.PREVIOUS: '2'>: RelatedNodeInfo(node_id='4daae23e-6ab0-44f9-8fb4-972ab74af848', node_type=<ObjectType.TEXT: '1'>, metadata={'page_label': '1', 'file_name': 'GenerativeAI.pdf', 'file_path': 'data\\\\GenerativeAI.pdf', 'file_type': 'application/pdf', 'file_size': 30139, 'creation_date': '2024-02-03', 'last_modified_date': '2024-02-04', 'last_accessed_date': '2024-02-04'}, hash='af552421d4b3975f7d53ca0fbfd98eaea2ea4bd8e3a6233f33897ffbfaf24d39')}, text=\"**Title: Understanding Q -Learning**  \\n*Page 1: Introduction*  \\nQ-learning is a powerful reinforcement learning algorithm that enables machines to learn optimal strategies in a \\ngiven environment. This two -page document delves into the fundamental concepts of Q -learning, shedding light on \\nits mechanisms and applications.  \\n*Page 2: Key Concepts*  \\n**1. Reinforcement Learning:**  \\nAt its core, Q -learning is a form of reinforcement learning, a type of machine learning where an agent learns by \\ninteracting with an environment. The agent receives feedback in the form of rewards or penalties, guiding it to \\ndiscover optimal actions over t ime.  \\n**2. Q -Value and State -Action Pairs:**  \\nThe key idea in Q -learning is the Q -value, representing the expected cumulative reward of taking a particular action \\nin a specific state. The algorithm maintains a Q -table or Q -function, associating values with state -action pairs, \\nguiding the agent to choo se actions that maximize long -term rewards.  \\n**3. Exploration vs. Exploitation:**  \\nBalancing exploration (trying new actions to discover their effects) and exploitation (choosing known optimal \\nactions) is a crucial aspect of Q -learning. Strategies like epsilon -greedy exploration are employed to ensure the agent \\nexplores the environment w hile gradually focusing on the most rewarding actions.  \\n*Page 3: Training Process*  \\n**1. Bellman Equation:**  \\nQ-learning employs the Bellman equation to iteratively update Q -values based on the difference between the current \\nestimate and the expected future rewards. This process refines the Q -values, converging towards an optimal policy \\nthat maximizes cumulative r ewards.  \\n**2. Learning Rate and Discount Factor:**  \\nParameters like learning rate and discount factor influence the Q -learning process. The learning rate determines the \\nextent to which the Q -values are updated in each iteration, while the discount factor influences the agent's \\nconsideration of future reward s. Finding optimal values for these parameters is crucial for successful Q -learning.  \\n*Page 4: Applications*  \\n**1. Game Playing:**  \\nQ-learning has been widely applied in gaming scenarios, where agents learn optimal strategies to navigate game \\nenvironments, defeat opponents, and achieve specific objectives.  \\n**2. Robotics and Control Systems:**  \\nIn robotics and control systems, Q -learning aids in decision -making processes, allowing robots to adapt and  \\noptimize their actions based on real -time feedback and environmental changes.\", start_char_idx=3, end_char_idx=2543, text_template='{metadata_str}\\n\\n{content}', metadata_template='{key}: {value}', metadata_seperator='\\n'), score=0.7571784953986854)], metadata={'4daae23e-6ab0-44f9-8fb4-972ab74af848': {'page_label': '1', 'file_name': 'GenerativeAI.pdf', 'file_path': 'data\\\\GenerativeAI.pdf', 'file_type': 'application/pdf', 'file_size': 30139, 'creation_date': '2024-02-03', 'last_modified_date': '2024-02-04', 'last_accessed_date': '2024-02-04'}, '71380dc9-fbfc-4688-ac68-603ee059db38': {'page_label': '1', 'file_name': 'Q_Learning.pdf', 'file_path': 'data\\\\Q_Learning.pdf', 'file_type': 'application/pdf', 'file_size': 10277, 'creation_date': '2024-02-03', 'last_modified_date': '2024-02-04', 'last_accessed_date': '2024-02-04'}})"
      ]
     },
     "execution_count": 9,
     "metadata": {},
     "output_type": "execute_result"
    }
   ],
   "source": [
    "response"
   ]
  },
  {
   "cell_type": "code",
   "execution_count": 10,
   "metadata": {},
   "outputs": [],
   "source": [
    "response=query_engine.query(\"Summarize Q learning in 10 words\")"
   ]
  },
  {
   "cell_type": "code",
   "execution_count": 11,
   "metadata": {},
   "outputs": [
    {
     "data": {
      "text/plain": [
       "Response(response='Q-learning is a reinforcement learning algorithm that maximizes long-term rewards.', source_nodes=[NodeWithScore(node=TextNode(id_='71380dc9-fbfc-4688-ac68-603ee059db38', embedding=None, metadata={'page_label': '1', 'file_name': 'Q_Learning.pdf', 'file_path': 'data\\\\Q_Learning.pdf', 'file_type': 'application/pdf', 'file_size': 10277, 'creation_date': '2024-02-03', 'last_modified_date': '2024-02-04', 'last_accessed_date': '2024-02-04'}, excluded_embed_metadata_keys=['file_name', 'file_type', 'file_size', 'creation_date', 'last_modified_date', 'last_accessed_date'], excluded_llm_metadata_keys=['file_name', 'file_type', 'file_size', 'creation_date', 'last_modified_date', 'last_accessed_date'], relationships={<NodeRelationship.SOURCE: '1'>: RelatedNodeInfo(node_id='1b800244-b7c6-44ef-bb5c-d02a0fe84a61', node_type=<ObjectType.DOCUMENT: '4'>, metadata={'page_label': '1', 'file_name': 'Q_Learning.pdf', 'file_path': 'data\\\\Q_Learning.pdf', 'file_type': 'application/pdf', 'file_size': 10277, 'creation_date': '2024-02-03', 'last_modified_date': '2024-02-04', 'last_accessed_date': '2024-02-04'}, hash='fddb9095f289be738702130329e32d0fb30123282b386a9949fa866b5d2f93f6'), <NodeRelationship.PREVIOUS: '2'>: RelatedNodeInfo(node_id='4daae23e-6ab0-44f9-8fb4-972ab74af848', node_type=<ObjectType.TEXT: '1'>, metadata={'page_label': '1', 'file_name': 'GenerativeAI.pdf', 'file_path': 'data\\\\GenerativeAI.pdf', 'file_type': 'application/pdf', 'file_size': 30139, 'creation_date': '2024-02-03', 'last_modified_date': '2024-02-04', 'last_accessed_date': '2024-02-04'}, hash='af552421d4b3975f7d53ca0fbfd98eaea2ea4bd8e3a6233f33897ffbfaf24d39')}, text=\"**Title: Understanding Q -Learning**  \\n*Page 1: Introduction*  \\nQ-learning is a powerful reinforcement learning algorithm that enables machines to learn optimal strategies in a \\ngiven environment. This two -page document delves into the fundamental concepts of Q -learning, shedding light on \\nits mechanisms and applications.  \\n*Page 2: Key Concepts*  \\n**1. Reinforcement Learning:**  \\nAt its core, Q -learning is a form of reinforcement learning, a type of machine learning where an agent learns by \\ninteracting with an environment. The agent receives feedback in the form of rewards or penalties, guiding it to \\ndiscover optimal actions over t ime.  \\n**2. Q -Value and State -Action Pairs:**  \\nThe key idea in Q -learning is the Q -value, representing the expected cumulative reward of taking a particular action \\nin a specific state. The algorithm maintains a Q -table or Q -function, associating values with state -action pairs, \\nguiding the agent to choo se actions that maximize long -term rewards.  \\n**3. Exploration vs. Exploitation:**  \\nBalancing exploration (trying new actions to discover their effects) and exploitation (choosing known optimal \\nactions) is a crucial aspect of Q -learning. Strategies like epsilon -greedy exploration are employed to ensure the agent \\nexplores the environment w hile gradually focusing on the most rewarding actions.  \\n*Page 3: Training Process*  \\n**1. Bellman Equation:**  \\nQ-learning employs the Bellman equation to iteratively update Q -values based on the difference between the current \\nestimate and the expected future rewards. This process refines the Q -values, converging towards an optimal policy \\nthat maximizes cumulative r ewards.  \\n**2. Learning Rate and Discount Factor:**  \\nParameters like learning rate and discount factor influence the Q -learning process. The learning rate determines the \\nextent to which the Q -values are updated in each iteration, while the discount factor influences the agent's \\nconsideration of future reward s. Finding optimal values for these parameters is crucial for successful Q -learning.  \\n*Page 4: Applications*  \\n**1. Game Playing:**  \\nQ-learning has been widely applied in gaming scenarios, where agents learn optimal strategies to navigate game \\nenvironments, defeat opponents, and achieve specific objectives.  \\n**2. Robotics and Control Systems:**  \\nIn robotics and control systems, Q -learning aids in decision -making processes, allowing robots to adapt and  \\noptimize their actions based on real -time feedback and environmental changes.\", start_char_idx=3, end_char_idx=2543, text_template='{metadata_str}\\n\\n{content}', metadata_template='{key}: {value}', metadata_seperator='\\n'), score=0.850486243574272), NodeWithScore(node=TextNode(id_='4daae23e-6ab0-44f9-8fb4-972ab74af848', embedding=None, metadata={'page_label': '1', 'file_name': 'GenerativeAI.pdf', 'file_path': 'data\\\\GenerativeAI.pdf', 'file_type': 'application/pdf', 'file_size': 30139, 'creation_date': '2024-02-03', 'last_modified_date': '2024-02-04', 'last_accessed_date': '2024-02-04'}, excluded_embed_metadata_keys=['file_name', 'file_type', 'file_size', 'creation_date', 'last_modified_date', 'last_accessed_date'], excluded_llm_metadata_keys=['file_name', 'file_type', 'file_size', 'creation_date', 'last_modified_date', 'last_accessed_date'], relationships={<NodeRelationship.SOURCE: '1'>: RelatedNodeInfo(node_id='a5f906cc-08bb-4e94-8ff0-b1d52a9c11ed', node_type=<ObjectType.DOCUMENT: '4'>, metadata={'page_label': '1', 'file_name': 'GenerativeAI.pdf', 'file_path': 'data\\\\GenerativeAI.pdf', 'file_type': 'application/pdf', 'file_size': 30139, 'creation_date': '2024-02-03', 'last_modified_date': '2024-02-04', 'last_accessed_date': '2024-02-04'}, hash='66caebadb257995efbe245b8face719bc3f0441d0269c9d418caa30841921622'), <NodeRelationship.NEXT: '3'>: RelatedNodeInfo(node_id='71380dc9-fbfc-4688-ac68-603ee059db38', node_type=<ObjectType.TEXT: '1'>, metadata={}, hash='eb57b75d6182adb1eaebb8abb814041bb3adf68309c9484342c6b81e0282a5b7')}, text=\"**Title: Understanding Generative AI**  \\n*Page 1: Introduction*  \\nGenerative Artificial Intelligence (AI) is a cutting -edge field that focuses on creating systems capable of \\ngenerating new content, whether it be text, images, or other forms of data. Unlike traditional AI, which \\nprimarily involves solving specific tasks, generative AI aims to simulate human creativity and produce \\nnovel outputs. This two-page document explores the fundamental concepts behind generative AI.  \\n*Page 2: Key Concepts*  \\n**1. Generative Models:**  \\nGenerative AI relies on generative models, mathematical frameworks designed to learn patterns and \\nstructures within data. Notable examples include Variational Autoencoders (VAEs) and Generative \\nAdversarial Networks (GANs). These models enable machines to g enerate content by capturing the \\nunderlying features of the training data.  \\n**2. Training Process:**  \\nDuring training, generative models learn from vast datasets, discerning patterns and relationships. GANs, \\nfor instance, consist of a generator and a discriminator network engaged in a competitive learning \\nprocess. The generator aims to create realistic dat a, while the discriminator's role is to distinguish \\nbetween real and generated content. This adversarial training enhances the model's ability to generate \\nauthentic outputs.  \\n**3. Natural Language Processing (NLP):**  \\nIn the context of text generation, NLP -based generative models, like OpenAI's GPT (Generative Pre -\\ntrained Transformer) series, have gained prominence. These models leverage deep learning techniques \\nto understand context, syntax, and semantics, enabling the m to generate coherent and contextually \\nrelevant text.  \\n*Page 3: Applications*  \\n**1. Creative Content Generation:**  \\nGenerative AI is transforming creative industries by autonomously producing art, music, and literature. \\nArtists and musicians are collaborating with generative models to explore new realms of creativity and \\ninnovation.  \\n**2. Realistic Image Synthesis:**  \\nGANs excel in generating lifelike images, revolutionizing fields such as computer graphics and design. \\nApplications range from creating synthetic training data for machine learning models to generating \\nrealistic faces that don't exist in reality.  \\n**3. Personalized Content Creation:**  \\nGenerative AI is also contributing to personalized content generation, tailoring recommendations, and \\ncreating bespoke experiences. This is evident in recommendation systems, chatbots, and virtual \\nassistants that adapt to individual preferences.  \\n**2. Continued Advancements:**  \\nThe field of generative AI is evolving rapidly, with ongoing research and developments. Continued \\nadvancements will likely lead to even more sophisticated models, pushing the boundaries of what AI can \\ncreate.\", start_char_idx=3, end_char_idx=2808, text_template='{metadata_str}\\n\\n{content}', metadata_template='{key}: {value}', metadata_seperator='\\n'), score=0.74977441685829)], metadata={'71380dc9-fbfc-4688-ac68-603ee059db38': {'page_label': '1', 'file_name': 'Q_Learning.pdf', 'file_path': 'data\\\\Q_Learning.pdf', 'file_type': 'application/pdf', 'file_size': 10277, 'creation_date': '2024-02-03', 'last_modified_date': '2024-02-04', 'last_accessed_date': '2024-02-04'}, '4daae23e-6ab0-44f9-8fb4-972ab74af848': {'page_label': '1', 'file_name': 'GenerativeAI.pdf', 'file_path': 'data\\\\GenerativeAI.pdf', 'file_type': 'application/pdf', 'file_size': 30139, 'creation_date': '2024-02-03', 'last_modified_date': '2024-02-04', 'last_accessed_date': '2024-02-04'}})"
      ]
     },
     "execution_count": 11,
     "metadata": {},
     "output_type": "execute_result"
    }
   ],
   "source": [
    "response"
   ]
  },
  {
   "cell_type": "code",
   "execution_count": 12,
   "metadata": {},
   "outputs": [
    {
     "name": "stdout",
     "output_type": "stream",
     "text": [
      "Q-learning is a reinforcement learning algorithm that maximizes long-term rewards.\n"
     ]
    }
   ],
   "source": [
    "print(response)"
   ]
  },
  {
   "cell_type": "code",
   "execution_count": 13,
   "metadata": {},
   "outputs": [
    {
     "name": "stdout",
     "output_type": "stream",
     "text": [
      "Final Response: Q-learning is a reinforcement learning algorithm that\n",
      "maximizes long-term rewards.\n",
      "______________________________________________________________________\n",
      "Source Node 1/2\n",
      "Node ID: 71380dc9-fbfc-4688-ac68-603ee059db38\n",
      "Similarity: 0.850486243574272\n",
      "Text: **Title: Understanding Q -Learning**   *Page 1: Introduction*\n",
      "Q-learning is a powerful reinforcement learning algorithm that enables\n",
      "machines to learn optimal strategies in a  given environment. This two\n",
      "-page document delves into the fundamental concepts of Q -learning,\n",
      "shedding light on  its mechanisms and applications.   *Page 2: Key\n",
      "Concep...\n",
      "______________________________________________________________________\n",
      "Source Node 2/2\n",
      "Node ID: 4daae23e-6ab0-44f9-8fb4-972ab74af848\n",
      "Similarity: 0.74977441685829\n",
      "Text: **Title: Understanding Generative AI**   *Page 1: Introduction*\n",
      "Generative Artificial Intelligence (AI) is a cutting -edge field that\n",
      "focuses on creating systems capable of  generating new content,\n",
      "whether it be text, images, or other forms of data. Unlike traditional\n",
      "AI, which  primarily involves solving specific tasks, generative AI\n",
      "aims to ...\n"
     ]
    }
   ],
   "source": [
    "from llama_index.response.pprint_utils import pprint_response\n",
    "pprint_response(response,show_source=True)"
   ]
  },
  {
   "cell_type": "code",
   "execution_count": 14,
   "metadata": {},
   "outputs": [],
   "source": [
    "from llama_index.retrievers import VectorIndexRetriever\n",
    "from llama_index.query_engine import RetrieverQueryEngine\n",
    "from llama_index.indices.postprocessor import SimilarityPostprocessor\n",
    "\n",
    "retriever=VectorIndexRetriever(index=index,similarity_top_k=4)\n",
    "postprocessor=SimilarityPostprocessor(similarity_cutoff=0.80)\n",
    "query_engine=RetrieverQueryEngine(retriever=retriever,node_postprocessors=[postprocessor])\n"
   ]
  },
  {
   "cell_type": "code",
   "execution_count": 15,
   "metadata": {},
   "outputs": [],
   "source": [
    "response=query_engine.query(\"Summarize Q learning in 10 words\")"
   ]
  },
  {
   "cell_type": "code",
   "execution_count": 20,
   "metadata": {},
   "outputs": [
    {
     "data": {
      "text/plain": [
       "'> Source (Doc id: 71380dc9-fbfc-4688-ac68-603ee059db38): **Title: Understanding Q -Learning**  \\n*Page 1: Introduction*  \\nQ-learning is a powerful reinforc...'"
      ]
     },
     "execution_count": 20,
     "metadata": {},
     "output_type": "execute_result"
    }
   ],
   "source": [
    "response.get_formatted_sources()"
   ]
  },
  {
   "cell_type": "code",
   "execution_count": 16,
   "metadata": {},
   "outputs": [
    {
     "ename": "NameError",
     "evalue": "name 'bhmbhm' is not defined",
     "output_type": "error",
     "traceback": [
      "\u001b[1;31m---------------------------------------------------------------------------\u001b[0m",
      "\u001b[1;31mNameError\u001b[0m                                 Traceback (most recent call last)",
      "Cell \u001b[1;32mIn[16], line 1\u001b[0m\n\u001b[1;32m----> 1\u001b[0m \u001b[43mbhmbhm\u001b[49m\n",
      "\u001b[1;31mNameError\u001b[0m: name 'bhmbhm' is not defined"
     ]
    }
   ],
   "source": [
    "bhmbhm"
   ]
  },
  {
   "cell_type": "code",
   "execution_count": null,
   "metadata": {},
   "outputs": [
    {
     "name": "stdout",
     "output_type": "stream",
     "text": [
      "Final Response: Q-learning is a reinforcement learning algorithm for\n",
      "optimal strategy discovery.\n",
      "______________________________________________________________________\n",
      "Source Node 1/1\n",
      "Node ID: f9fe9f3e-a884-4af8-97d7-234372716075\n",
      "Similarity: 0.850486243574272\n",
      "Text: **Title: Understanding Q -Learning**   *Page 1: Introduction*\n",
      "Q-learning is a powerful reinforcement learning algorithm that enables\n",
      "machines to learn optimal strategies in a  given environment. This two\n",
      "-page document delves into the fundamental concepts of Q -learning,\n",
      "shedding light on  its mechanisms and applications.   *Page 2: Key\n",
      "Concep...\n"
     ]
    }
   ],
   "source": [
    "from llama_index.response.pprint_utils import pprint_response\n",
    "pprint_response(response,show_source=True)"
   ]
  }
 ],
 "metadata": {
  "kernelspec": {
   "display_name": "venv",
   "language": "python",
   "name": "python3"
  },
  "language_info": {
   "codemirror_mode": {
    "name": "ipython",
    "version": 3
   },
   "file_extension": ".py",
   "mimetype": "text/x-python",
   "name": "python",
   "nbconvert_exporter": "python",
   "pygments_lexer": "ipython3",
   "version": "3.11.4"
  }
 },
 "nbformat": 4,
 "nbformat_minor": 2
}
